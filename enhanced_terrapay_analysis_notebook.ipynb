def perform_atl_btl_analysis(transaction_data, rule_descriptions):
    """Perform ATL/BTL threshold analysis for the top 5 alerting rules."""
    print("Performing ATL/BTL threshold optimization analysis...")
    
    # Get the top 5 rules by alert volume
    top_rules = transaction_data['alert_rules'].value_counts().head(5).index.tolist()
    print(f"Top 5 rules by alert volume: {top_rules}")
    
    # Get current thresholds
    rule_thresholds = rule_descriptions.set_index('Rule no.')['Current threshold'].to_dict()
    
    # Create a summary dataframe for all threshold analyses
    threshold_summary = []
    
    # For each rule, simulate different thresholds
    for rule in top_rules:
        if rule in rule_thresholds:
            current_threshold = rule_thresholds[rule]
            print(f"\nAnalyzing Rule {rule} (Current threshold: {current_threshold})")
            
            # Get alerts for this rule
            rule_alerts = transaction_data[transaction_data['alert_rules'] == rule]
            
            # Filter for closed alerts (with known outcome)
            closed_rule_alerts = rule_alerts[rule_alerts['status'].isin(['Closed TP', 'Closed FP'])]
            
            # Check if there's value information
            if 'usd_value' in closed_rule_alerts.columns:
                # For volume-based rules, we'll use transaction value as a proxy
                # In real-world scenarios, you'd use the actual metric that triggers the rule
                
                # Get the rule pattern to determine what type of rule it is
                rule_pattern = rule_descriptions[rule_descriptions['Rule no.'] == rule]['Rule Pattern'].values[0] \
                    if rule in rule_descriptions['Rule no.'].values else 'Unknown'
                
                print(f"Rule pattern: {rule_pattern}")
                
                # Extract transaction values and statuses
                values = closed_rule_alerts['usd_value'].values
                statuses = closed_rule_alerts['status'].values
                
                if len(values) > 0:
                    # Create threshold ranges based on the data
                    min_val = values.min()
                    max_val = values.max()
                    
                    # Generate potential thresholds
                    # For demonstration, use percentiles as potential thresholds
                    percentiles = np.arange(10, 100, 10)  # 10th, 20th, ..., 90th percentiles
                    thresholds = np.percentile(values, percentiles)
                    
                    # Add current threshold if it's a numeric value
                    if isinstance(current_threshold, (int, float)):
                        thresholds = np.append(thresholds, current_threshold)
                        thresholds = np.sort(thresholds)
                    
                    # Calculate TP/FP rates for each threshold
                    results = []
                    for threshold in thresholds:
                        # For volume rules, alerts are triggered when value > threshold
                        # For other rule types, the logic might be different
                        if rule_pattern in ['Volume']:
                            triggered = values > threshold
                        else:  # Default behavior
                            triggered = values > threshold
                        
                        # Count TPs and FPs with this threshold
                        tp_count = sum((statuses == 'Closed TP') & triggered)
                        fp_count = sum((statuses == 'Closed FP') & triggered)
                        total = sum(triggered)
                        
                        # Calculate rates
                        tp_rate = tp_count / sum(statuses == 'Closed TP') * 100 if sum(statuses == 'Closed TP') > 0 else 0
                        fp_rate = fp_count / sum(statuses == 'Closed FP') * 100 if sum(statuses == 'Closed FP') > 0 else 0
                        precision = tp_count / total * 100 if total > 0 else 0
                        
                        # Calculate alert volume reduction
                        alert_reduction = (1 - sum(triggered) / len(values)) * 100
                        
                        results.append({
                            'Rule': rule,
                            'Threshold': threshold,
                            'TP_Count': tp_count,
                            'FP_Count': fp_count,
                            'Total_Alerts': sum(triggered),
                            'TP_Rate': tp_rate,
                            'FP_Rate': fp_rate,
                            'Precision': precision,
                            'Alert_Reduction': alert_reduction
                        })
                    
                    # Convert to DataFrame
                    results_df = pd.DataFrame(results)
                    
                    # Find optimal threshold
                    # Define a simple scoring function that balances TP rate and alert reduction
                    results_df['Score'] = results_df['TP_Rate'] * 0.7 - results_df['Alert_Reduction'] * 0.3
                    optimal_threshold = results_df.loc[results_df['Score'].idxmax(), 'Threshold']
                    
                    # Find current threshold result
                    current_result = results_df[results_df['Threshold'] == current_threshold] if current_threshold in results_df['Threshold'].values else None
                    optimal_result = results_df[results_df['Threshold'] == optimal_threshold]
                    
                    print(f"Optimal threshold: {optimal_threshold:.2f} (current: {current_threshold})")
                    
                    # Add to summary dataframe
                    summary_row = {
                        'Rule': rule,
                        'Current_Threshold': current_threshold,
                        'Optimal_Threshold': optimal_threshold,
                        'Current_TP_Rate': current_result['TP_Rate'].values[0] if current_result is not None and not current_result.empty else None,
                        'Optimal_TP_Rate': optimal_result['TP_Rate'].values[0],
                        'Current_Precision': current_result['Precision'].values[0] if current_result is not None and not current_result.empty else None,
                        'Optimal_Precision': optimal_result['Precision'].values[0],
                        'Alert_Volume_Change': optimal_result['Total_Alerts'].values[0] - (current_result['Total_Alerts'].values[0] if current_result is not None and not current_result.empty else 0),
                        'Alert_Volume_Change_Pct': ((optimal_result['Total_Alerts'].values[0] / current_result['Total_Alerts'].values[0]) - 1) * 100 if current_result is not None and not current_result.empty and current_result['Total_Alerts'].values[0] > 0 else None
                    }
                    threshold_summary.append(summary_row)
                    
                    # Create interactive visualization of threshold analysis
                    fig_threshold = make_subplots(specs=[[{"secondary_y": True}]])
                    
                    # Add traces
                    fig_threshold.add_trace(
                        go.Scatter(x=results_df['Threshold'], y=results_df['TP_Rate'], name='TP Rate (%)', 
                                 mode='lines+markers', marker=dict(color='green')),
                        secondary_y=False
                    )
                    
                    fig_threshold.add_trace(
                        go.Scatter(x=results_df['Threshold'], y=results_df['Precision'], name='Precision (%)', 
                                 mode='lines+markers', marker=dict(color='blue')),
                        secondary_y=False
                    )
                    
                    fig_threshold.add_trace(
                        go.Scatter(x=results_df['Threshold'], y=results_df['Alert_Reduction'], name='Alert Reduction (%)', 
                                 mode='lines+markers', marker=dict(color='red')),
                        secondary_y=True
                    )
                    
                    # Add current and optimal threshold lines
                    if current_threshold in results_df['Threshold'].values:
                        fig_threshold.add_vline(x=current_threshold, line_dash='dash', line_color='black', 
                                             annotation_text=f'Current: {current_threshold}', annotation_position='top left')
                    
                    fig_threshold.add_vline(x=optimal_threshold, line_color='purple', 
                                         annotation_text=f'Optimal: {optimal_threshold:.2f}', annotation_position='top right')
                    
                    # Set titles
                    fig_threshold.update_layout(
                        title=f'Threshold Analysis for Rule {rule}',
                        xaxis_title='Threshold Value',
                    )
                    
                    # Set y-axes titles
                    fig_threshold.update_yaxes(title_text='Percentage (%)', secondary_y=False)
                    fig_threshold.update_yaxes(title_text='Alert Reduction (%)', secondary_y=True)
                    
                    fig_threshold.write_html(f'visualizations/threshold_analysis_{rule}.html')
                    fig_threshold.show()
                else:
                    print("Insufficient data for threshold analysis")
            else:
                print("Value information not available for threshold analysis")
        else:
            print(f"No threshold information found for rule {rule}")
    
    # Create summary table of all threshold analyses
    if threshold_summary:
        threshold_summary_df = pd.DataFrame(threshold_summary)
        
        # Create interactive table for threshold summary
        fig_summary = go.Figure(data=[go.Table(
            header=dict(values=['<b>Rule</b>', '<b>Current<br>Threshold</b>', '<b>Optimal<br>Threshold</b>', 
                              '<b>Current<br>TP Rate</b>', '<b>Optimal<br>TP Rate</b>', '<b>Current<br>Precision</b>', 
                              '<b>Optimal<br>Precision</b>', '<b>Alert<br>Change</b>', '<b>Alert<br>Change %</b>'],
                      fill_color='royalblue',
                      align='center',
                      font=dict(color='white', size=11)),
            cells=dict(values=[
                threshold_summary_df['Rule'], 
                threshold_summary_df['Current_Threshold'],
                threshold_summary_df['Optimal_Threshold'].apply(lambda x: f"{x:.2f}"),
                threshold_summary_df['Current_TP_Rate'].apply(lambda x: f"{x:.1f}%" if pd.notnull(x) else "N/A"),
                threshold_summary_df['Optimal_TP_Rate'].apply(lambda x: f"{x:.1f}%"),
                threshold_summary_df['Current_Precision'].apply(lambda x: f"{x:.1f}%" if pd.notnull(x) else "N/A"),
                threshold_summary_df['Optimal_Precision'].apply(lambda x: f"{x:.1f}%"),
                threshold_summary_df['Alert_Volume_Change'],
                threshold_summary_df['Alert_Volume_Change_Pct'].apply(lambda x: f"{x:+.1f}%" if pd.notnull(x) else "N/A")
            ],
                      fill_color=[['lightcyan', 'white']*len(threshold_summary_df)],
                      align='center'))
        ])
        fig_summary.update_layout(title='Threshold Optimization Summary')
        fig_summary.write_html('visualizations/threshold_optimization_summary.html')
        fig_summary.show()
    
    return top_rules